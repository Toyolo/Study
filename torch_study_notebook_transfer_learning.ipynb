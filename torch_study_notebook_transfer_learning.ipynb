{
 "cells": [
  {
   "cell_type": "markdown",
   "metadata": {},
   "source": [
    "# transfer learning notebook\n",
    "    i have built a few different models so far and\n",
    "    the performance of each has been poor\n",
    "    im going to learn now how to leverage other models that are already working in similar problem spaces to attempt to improve my models ability\n",
    "\n",
    "    transfer learning lets me take the patterns other models have learned and use them for my own problem. i can take a vision model trained longer and better on a bigger data set and use it to power my food model"
   ]
  }
 ],
 "metadata": {
  "kernelspec": {
   "display_name": "Python 3",
   "language": "python",
   "name": "python3"
  },
  "language_info": {
   "name": "python",
   "version": "3.11.4"
  },
  "orig_nbformat": 4
 },
 "nbformat": 4,
 "nbformat_minor": 2
}
